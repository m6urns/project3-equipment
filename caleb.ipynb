{
 "cells": [
  {
   "cell_type": "code",
   "execution_count": 42,
   "metadata": {},
   "outputs": [
    {
     "name": "stdout",
     "output_type": "stream",
     "text": [
      "['United States', '877', '4645', '11', '42', '12', '75', '23', '0', '68', '0', '3368', '867', '5244', '141', '[7][15][16]']\n"
     ]
    }
   ],
   "source": [
    "import requests\n",
    "from bs4 import BeautifulSoup\n",
    "import seaborn as sns\n",
    "import pandas as pd\n",
    "import matplotlib.pyplot as plt\n",
    "\n",
    "url = \"https://en.wikipedia.org/wiki/List_of_countries_by_level_of_military_equipment\"\n",
    "page = requests.get(url)\n",
    "soup = BeautifulSoup(page.content, 'html.parser')\n",
    "\n",
    "content = soup.find(id=\"mw-content-text\")\n",
    "tbody_elements = content.find_all('tbody')\n",
    "country_data = []\n",
    "\n",
    "# Loop through each <tbody> to find the relevant rows\n",
    "for tbody in tbody_elements:\n",
    "    rows = tbody.find_all('tr')\n",
    "    \n",
    "    for row in rows:\n",
    "        # Extract the first column which contains the country name\n",
    "        country_name_cell = row.find('a')\n",
    "        if country_name_cell:\n",
    "            country_name = country_name_cell.text.strip()\n",
    "            \n",
    "            # Extract the numerical data from the remaining <td> elements\n",
    "            data_cells = row.find_all('td')[1:]  # Skip the first <td> (country name)\n",
    "            row_data = [td.text.strip() for td in data_cells if td.text.strip() != \"\"]\n",
    "            \n",
    "            # Append the country name and data as a list\n",
    "            if row_data:\n",
    "                country_data.append([country_name] + row_data)\n",
    "\n",
    "# Remove the first 3 faulty arrays\n",
    "if len(country_data) > 3:\n",
    "    country_data = country_data[3:]\n",
    "\n",
    "# Step 3: Fix the issue with the 3rd element containing a dot '.'\n",
    "for entry in country_data:\n",
    "    if len(entry) > 2 and '.' in entry[2]:\n",
    "        # Combine the 2nd and 3rd elements into a float\n",
    "        entry[1] = str(float(entry[1] + entry[2]))\n",
    "        # Remove the 3rd element\n",
    "        entry.pop(2)\n",
    "\n",
    "# Remove all table data that isnt the military capabilities of the 171 countries\n",
    "country_data = country_data[:171]\n",
    "\n",
    "# remove all citations\n",
    "for entry in country_data:\n",
    "    if entry[2] == '[j]':\n",
    "        entry.pop(2)\n",
    "\n",
    "print(country_data[-8])"
   ]
  },
  {
   "cell_type": "code",
   "execution_count": 45,
   "metadata": {},
   "outputs": [
    {
     "data": {
      "image/png": "[encoded data removed]",
      "text/plain": [
       "<Figure size 720x432 with 1 Axes>"
      ]
     },
     "metadata": {
      "needs_background": "light"
     },
     "output_type": "display_data"
    }
   ],
   "source": [
    "# Filter out countries with zero aircraft carriers (4th element)\n",
    "countries = []\n",
    "aircraft_carriers = []\n",
    "\n",
    "for entry in country_data:\n",
    "    if len(entry) > 3 and entry[3].isdigit() and int(entry[3]) > 0:\n",
    "        countries.append(entry[0])\n",
    "        aircraft_carriers.append(int(entry[3]))\n",
    "\n",
    "# Step 5: Create a DataFrame\n",
    "df = pd.DataFrame({\n",
    "    'Country': countries,\n",
    "    'Aircraft Carriers': aircraft_carriers\n",
    "})\n",
    "\n",
    "# Step 6: Plot the bar chart using Seaborn\n",
    "plt.figure(figsize=(10,6))\n",
    "sns.barplot(x='Country', y='Aircraft Carriers', data=df)\n",
    "plt.xticks(rotation=90)  # Rotate country names for better readability\n",
    "plt.title('Number of Aircraft Carriers by Country')\n",
    "plt.show()\n"
   ]
  }
 ],
 "metadata": {
  "kernelspec": {
   "display_name": "Python 3",
   "language": "python",
   "name": "python3"
  },
  "language_info": {
   "codemirror_mode": {
    "name": "ipython",
    "version": 3
   },
   "file_extension": ".py",
   "mimetype": "text/x-python",
   "name": "python",
   "nbconvert_exporter": "python",
   "pygments_lexer": "ipython3",
   "version": "3.10.12"
  }
 },
 "nbformat": 4,
 "nbformat_minor": 2
}
