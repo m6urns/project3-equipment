{
 "cells": [
  {
   "cell_type": "code",
   "execution_count": 22,
   "metadata": {},
   "outputs": [],
   "source": [
    "import requests\n",
    "from bs4 import BeautifulSoup\n",
    "import pandas as pd\n",
    "from datetime import date\n",
    "import re"
   ]
  },
  {
   "cell_type": "code",
   "execution_count": 23,
   "metadata": {},
   "outputs": [],
   "source": [
    "# Sources\n",
    "russia_url = \"https://www.oryxspioenkop.com/2022/02/attack-on-europe-documenting-equipment.html\"\n",
    "ukraine_url = \"https://www.oryxspioenkop.com/2022/02/attack-on-europe-documenting-ukrainian.html\"\n",
    "# russia_url = \"https://web.archive.org/web/20240104001559/https://www.oryxspioenkop.com/2022/02/attack-on-europe-documenting-equipment.html\"\n",
    "# ukraine_url = \"https://web.archive.org/web/20240104001559/https://www.oryxspioenkop.com/2022/02/attack-on-europe-documenting-ukrainian.html\""
   ]
  },
  {
   "cell_type": "code",
   "execution_count": 24,
   "metadata": {},
   "outputs": [],
   "source": [
    "def scrape_data(country):\n",
    "    if country == \"Russia\":\n",
    "        url = russia_url\n",
    "    else:\n",
    "        url = ukraine_url\n",
    "\n",
    "    response = requests.get(url)\n",
    "    soup = BeautifulSoup(response.text, 'html.parser')\n",
    "    materiel = soup.select('article li')\n",
    "\n",
    "    data = []\n",
    "\n",
    "    for item in materiel:\n",
    "        system = item.get_text().split(':')[0].strip()\n",
    "        origin = item.find('img')['src'].split('/')[-1].replace('Flag_of_the_', '').replace('Flag_of_', '').replace('.png', '').replace('_', ' ')\n",
    "        \n",
    "        for status_link in item.find_all('a'):\n",
    "            status = re.findall(r'destroyed|captured|abandoned|damaged', status_link.text.lower())\n",
    "            if status:\n",
    "                data.append({\n",
    "                    'country': country,\n",
    "                    'origin': origin,\n",
    "                    'system': system,\n",
    "                    'status': status[0],\n",
    "                    'url': status_link['href'],\n",
    "                    'date_recorded': date.today()\n",
    "                })\n",
    "\n",
    "    df = pd.DataFrame(data)\n",
    "    \n",
    "    return df\n",
    "\n",
    "def create_data():\n",
    "    russia = scrape_data(\"Russia\")\n",
    "    ukraine = scrape_data(\"Ukraine\")\n",
    "\n",
    "    data = pd.concat([russia, ukraine]).drop_duplicates()\n",
    "\n",
    "    return data"
   ]
  },
  {
   "cell_type": "code",
   "execution_count": 25,
   "metadata": {},
   "outputs": [],
   "source": [
    "def create_by_type(country):\n",
    "    if country == \"Russia\":\n",
    "        url = russia_url\n",
    "    else:\n",
    "        url = ukraine_url\n",
    "\n",
    "    response = requests.get(url)\n",
    "    soup = BeautifulSoup(response.text, 'html.parser')\n",
    "    heads = soup.select('article div h3')\n",
    "\n",
    "    # Drop the empty cell padding\n",
    "    heads = [h.text for h in heads if h.text.strip()]\n",
    "\n",
    "    totals = []\n",
    "    for head in heads:\n",
    "        equipment = re.sub(r'\\s*\\(.*\\)', '', head)\n",
    "        destroyed = re.search(r'destroyed: (\\d+)', head)\n",
    "        abandoned = re.search(r'(abandoned|aboned): (\\d+)', head)\n",
    "        captured = re.search(r'captured: (\\d+)', head)\n",
    "        damaged = re.search(r'damaged: (\\d+)', head)\n",
    "\n",
    "        totals.append({\n",
    "            'equipment': equipment,\n",
    "            'destroyed': int(destroyed.group(1)) if destroyed else 0,\n",
    "            'abandoned': int(abandoned.group(2)) if abandoned else 0,\n",
    "            'captured': int(captured.group(1)) if captured else 0,\n",
    "            'damaged': int(damaged.group(1)) if damaged else 0\n",
    "        })\n",
    "\n",
    "    df = pd.DataFrame(totals)\n",
    "    df['country'] = country\n",
    "    df['type_total'] = df['destroyed'] + df['abandoned'] + df['captured'] + df['damaged']\n",
    "    \n",
    "    # Replace the first row's equipment with \"All Types\"\n",
    "    df.loc[0, 'equipment'] = \"All Types\"\n",
    "    \n",
    "    df = df.rename(columns={'equipment': 'equipment_type'})\n",
    "    \n",
    "    return df\n",
    "\n",
    "def totals_by_type():\n",
    "    russia = create_by_type(\"Russia\")\n",
    "    ukraine = create_by_type(\"Ukraine\")\n",
    "\n",
    "    totals_df = pd.concat([russia, ukraine], ignore_index=True)\n",
    "    \n",
    "    return totals_df"
   ]
  },
  {
   "cell_type": "code",
   "execution_count": 26,
   "metadata": {},
   "outputs": [
    {
     "name": "stdout",
     "output_type": "stream",
     "text": [
      "  country                 origin     system     status  \\\n",
      "0  Russia  23px-Soviet Union.svg  2 T-54-3M  destroyed   \n",
      "1  Russia  23px-Soviet Union.svg  2 T-54-3M    damaged   \n",
      "2  Russia  23px-Soviet Union.svg    1 T-54B  destroyed   \n",
      "3  Russia  23px-Soviet Union.svg    3 T-55A  destroyed   \n",
      "4  Russia  23px-Soviet Union.svg    3 T-55A  destroyed   \n",
      "\n",
      "                                                 url date_recorded  \n",
      "0  https://i.postimg.cc/zBC4NPVv/1032-unkn-t55-de...    2024-09-21  \n",
      "1  https://i.postimg.cc/s29RHpfN/1036-T-54-3-M-da...    2024-09-21  \n",
      "2  https://i.postimg.cc/02ZtkYNd/1020-T-54-B-dest...    2024-09-21  \n",
      "3  https://twitter.com/bayraktar_1love/status/175...    2024-09-21  \n",
      "4  https://i.postimg.cc/rsGYFggv/1009-T-55-A-dest...    2024-09-21  \n"
     ]
    }
   ],
   "source": [
    "result = create_data()\n",
    "print(result.head())\n",
    "result.to_csv(\"outputfiles/totals_by_system.csv\", index=False)"
   ]
  },
  {
   "cell_type": "code",
   "execution_count": 27,
   "metadata": {},
   "outputs": [
    {
     "name": "stdout",
     "output_type": "stream",
     "text": [
      "                                      equipment_type  destroyed  abandoned  \\\n",
      "0                                          All Types      13211       1010   \n",
      "1  Losses excluding Recon Drones and Trucks - 139...      10036        961   \n",
      "2  Losses of Armoured Combat Vehicles [Tanks, AFV...       7337        882   \n",
      "3                                              Tanks       2334        367   \n",
      "4                         Armoured Fighting Vehicles       1179         96   \n",
      "\n",
      "   captured  damaged country  type_total  \n",
      "0      2971      806  Russia       17998  \n",
      "1      2228      710  Russia       13935  \n",
      "2      1528      366  Russia       10113  \n",
      "3       532      157  Russia        3390  \n",
      "4       271       36  Russia        1582  \n"
     ]
    }
   ],
   "source": [
    "result = totals_by_type()\n",
    "print(result.head())\n",
    "result.to_csv(\"outputfiles/totals_by_type.csv\", index=False)"
   ]
  }
 ],
 "metadata": {
  "kernelspec": {
   "display_name": "Python 3",
   "language": "python",
   "name": "python3"
  },
  "language_info": {
   "codemirror_mode": {
    "name": "ipython",
    "version": 3
   },
   "file_extension": ".py",
   "mimetype": "text/x-python",
   "name": "python",
   "nbconvert_exporter": "python",
   "pygments_lexer": "ipython3",
   "version": "3.11.9"
  }
 },
 "nbformat": 4,
 "nbformat_minor": 2
}
